{
 "cells": [
  {
   "cell_type": "markdown",
   "id": "8fb69cec-2b4f-4f8a-97a7-8f3754b28848",
   "metadata": {},
   "source": [
    "## Q1. Write a python program to extract the video URL of the first five videos."
   ]
  },
  {
   "cell_type": "code",
   "execution_count": 1,
   "id": "6e930a3f-1d96-4f84-9f1c-a54d5e29dce4",
   "metadata": {},
   "outputs": [
    {
     "name": "stdout",
     "output_type": "stream",
     "text": [
      "Extracted Video URL: https://www.youtube.com/watch?v=dYh6Chnq0lo\n"
     ]
    }
   ],
   "source": [
    "import re\n",
    "\n",
    "# The input URL\n",
    "url = \"https://youtu.be/dYh6Chnq0lo?si=9VS0spjQDxLA8nZd\"\n",
    "\n",
    "# Define a regular expression pattern to match YouTube video URLs\n",
    "pattern = r'(https?://)?(www\\.)?(youtube\\.com|youtu\\.be)/(watch\\?v=|embed/|v/|user/)?([A-Za-z0-9_-]+)(\\S+)?'\n",
    "\n",
    "# Use re.search to find the match in the URL\n",
    "match = re.search(pattern, url)\n",
    "\n",
    "if match:\n",
    "    video_id = match.group(5)\n",
    "    video_url = f\"https://www.youtube.com/watch?v={video_id}\"\n",
    "    print(\"Extracted Video URL:\", video_url)\n",
    "else:\n",
    "    print(\"No YouTube video URL found in the input.\")\n"
   ]
  },
  {
   "cell_type": "code",
   "execution_count": 2,
   "id": "c33c1db3-480a-4f92-8f53-064c8c46a47a",
   "metadata": {},
   "outputs": [
    {
     "name": "stdout",
     "output_type": "stream",
     "text": [
      "Extracted Video URL: https://www.youtube.com/watch?v=v22z2ixxN1c\n"
     ]
    }
   ],
   "source": [
    "import re\n",
    "\n",
    "# The input URL\n",
    "url = \"https://youtu.be/v22z2ixxN1c?si=ejIEEWRMU6k7hS5r\"\n",
    "\n",
    "# Define a regular expression pattern to match YouTube video URLs\n",
    "pattern = r'(https?://)?(www\\.)?(youtube\\.com|youtu\\.be)/(watch\\?v=|embed/|v/|user/)?([A-Za-z0-9_-]+)(\\S+)?'\n",
    "\n",
    "# Use re.search to find the match in the URL\n",
    "match = re.search(pattern, url)\n",
    "\n",
    "if match:\n",
    "    video_id = match.group(5)\n",
    "    video_url = f\"https://www.youtube.com/watch?v={video_id}\"\n",
    "    print(\"Extracted Video URL:\", video_url)\n",
    "else:\n",
    "    print(\"No YouTube video URL found in the input.\")\n"
   ]
  },
  {
   "cell_type": "code",
   "execution_count": 3,
   "id": "4bd285d2-6e4a-403d-bf41-5938218c7939",
   "metadata": {},
   "outputs": [
    {
     "name": "stdout",
     "output_type": "stream",
     "text": [
      "Extracted Video URL: https://www.youtube.com/watch?v=MksUgxuA8L4\n"
     ]
    }
   ],
   "source": [
    "import re\n",
    "\n",
    "# The input URL\n",
    "url = \"https://youtu.be/MksUgxuA8L4?si=zXrYTf3og1mK5F2Y\"\n",
    "\n",
    "# Define a regular expression pattern to match YouTube video URLs\n",
    "pattern = r'(https?://)?(www\\.)?(youtube\\.com|youtu\\.be)/(watch\\?v=|embed/|v/|user/)?([A-Za-z0-9_-]+)(\\S+)?'\n",
    "\n",
    "# Use re.search to find the match in the URL\n",
    "match = re.search(pattern, url)\n",
    "\n",
    "if match:\n",
    "    video_id = match.group(5)\n",
    "    video_url = f\"https://www.youtube.com/watch?v={video_id}\"\n",
    "    print(\"Extracted Video URL:\", video_url)\n",
    "else:\n",
    "    print(\"No YouTube video URL found in the input.\")\n"
   ]
  },
  {
   "cell_type": "code",
   "execution_count": 4,
   "id": "1d8914b4-4aec-4d22-ade3-202c2e83b3f2",
   "metadata": {},
   "outputs": [
    {
     "name": "stdout",
     "output_type": "stream",
     "text": [
      "Extracted Video URL: https://www.youtube.com/watch?v=3TL4-e3z7CA\n"
     ]
    }
   ],
   "source": [
    "import re\n",
    "\n",
    "# The input URL\n",
    "url = \"https://youtu.be/3TL4-e3z7CA?si=IsYno38C3YYnUf7R\"\n",
    "\n",
    "# Define a regular expression pattern to match YouTube video URLs\n",
    "pattern = r'(https?://)?(www\\.)?(youtube\\.com|youtu\\.be)/(watch\\?v=|embed/|v/|user/)?([A-Za-z0-9_-]+)(\\S+)?'\n",
    "\n",
    "# Use re.search to find the match in the URL\n",
    "match = re.search(pattern, url)\n",
    "\n",
    "if match:\n",
    "    video_id = match.group(5)\n",
    "    video_url = f\"https://www.youtube.com/watch?v={video_id}\"\n",
    "    print(\"Extracted Video URL:\", video_url)\n",
    "else:\n",
    "    print(\"No YouTube video URL found in the input.\")\n"
   ]
  },
  {
   "cell_type": "code",
   "execution_count": 5,
   "id": "e60e1b98-2450-4867-b6c4-4d9655576ba2",
   "metadata": {},
   "outputs": [
    {
     "name": "stdout",
     "output_type": "stream",
     "text": [
      "Extracted Video URL: https://www.youtube.com/watch?v=mw9mLdN6ssA\n"
     ]
    }
   ],
   "source": [
    "import re\n",
    "\n",
    "# The input URL\n",
    "url = \"https://youtu.be/mw9mLdN6ssA?si=J6UIAdOidG526nBl\"\n",
    "\n",
    "# Define a regular expression pattern to match YouTube video URLs\n",
    "pattern = r'(https?://)?(www\\.)?(youtube\\.com|youtu\\.be)/(watch\\?v=|embed/|v/|user/)?([A-Za-z0-9_-]+)(\\S+)?'\n",
    "\n",
    "# Use re.search to find the match in the URL\n",
    "match = re.search(pattern, url)\n",
    "\n",
    "if match:\n",
    "    video_id = match.group(5)\n",
    "    video_url = f\"https://www.youtube.com/watch?v={video_id}\"\n",
    "    print(\"Extracted Video URL:\", video_url)\n",
    "else:\n",
    "    print(\"No YouTube video URL found in the input.\")\n"
   ]
  },
  {
   "cell_type": "markdown",
   "id": "204e50c9-4cd0-4721-a376-9501475c6a2d",
   "metadata": {},
   "source": [
    "## Q2. Write a python program to extract the URL of the video thumbnails of the first five videos."
   ]
  },
  {
   "cell_type": "code",
   "execution_count": 6,
   "id": "d6dcfc1c-5a7d-41a4-92a4-6bce2a3f383a",
   "metadata": {},
   "outputs": [
    {
     "name": "stdout",
     "output_type": "stream",
     "text": [
      "Thumbnail URL: https://img.youtube.com/vi/dYh6Chnq0lo/maxresdefault.jpg\n",
      "Thumbnail image saved as dYh6Chnq0lo_thumbnail.jpg\n"
     ]
    }
   ],
   "source": [
    "import requests\n",
    "from bs4 import BeautifulSoup\n",
    "\n",
    "# YouTube video URL\n",
    "video_url = \"https://youtu.be/dYh6Chnq0lo?si=48P2hfDF90VGTbW5\"\n",
    "\n",
    "# Extract the video ID from the URL\n",
    "video_id = video_url.split('/')[-1].split('?')[0]\n",
    "\n",
    "# Construct the thumbnail URL\n",
    "thumbnail_url = f\"https://img.youtube.com/vi/{video_id}/maxresdefault.jpg\"\n",
    "\n",
    "# Send a request to the thumbnail URL\n",
    "response = requests.get(thumbnail_url)\n",
    "\n",
    "# Check if the request was successful\n",
    "if response.status_code == 200:\n",
    "    # Save the thumbnail image to a file or display it\n",
    "    with open(f\"{video_id}_thumbnail.jpg\", \"wb\") as img_file:\n",
    "        img_file.write(response.content)\n",
    "    print(f\"Thumbnail URL: {thumbnail_url}\")\n",
    "    print(\"Thumbnail image saved as\", f\"{video_id}_thumbnail.jpg\")\n",
    "else:\n",
    "    print(\"Failed to retrieve the thumbnail image.\")\n"
   ]
  },
  {
   "cell_type": "code",
   "execution_count": 7,
   "id": "a43f48f6-ac3d-4a0b-9e49-43cf85dda4e3",
   "metadata": {},
   "outputs": [
    {
     "name": "stdout",
     "output_type": "stream",
     "text": [
      "Thumbnail URL: https://img.youtube.com/vi/v22z2ixxN1c/maxresdefault.jpg\n",
      "Thumbnail image saved as v22z2ixxN1c_thumbnail.jpg\n"
     ]
    }
   ],
   "source": [
    "import requests\n",
    "from bs4 import BeautifulSoup\n",
    "\n",
    "# YouTube video URL\n",
    "video_url = \"https://youtu.be/v22z2ixxN1c?si=N0UjP__JYbHFM7yP\"\n",
    "\n",
    "# Extract the video ID from the URL\n",
    "video_id = video_url.split('/')[-1].split('?')[0]\n",
    "\n",
    "# Construct the thumbnail URL\n",
    "thumbnail_url = f\"https://img.youtube.com/vi/{video_id}/maxresdefault.jpg\"\n",
    "\n",
    "# Send a request to the thumbnail URL\n",
    "response = requests.get(thumbnail_url)\n",
    "\n",
    "# Check if the request was successful\n",
    "if response.status_code == 200:\n",
    "    # Save the thumbnail image to a file or display it\n",
    "    with open(f\"{video_id}_thumbnail.jpg\", \"wb\") as img_file:\n",
    "        img_file.write(response.content)\n",
    "    print(f\"Thumbnail URL: {thumbnail_url}\")\n",
    "    print(\"Thumbnail image saved as\", f\"{video_id}_thumbnail.jpg\")\n",
    "else:\n",
    "    print(\"Failed to retrieve the thumbnail image.\")\n"
   ]
  },
  {
   "cell_type": "code",
   "execution_count": 8,
   "id": "fd6695af-d26a-4ea9-825a-4d4c25037ed5",
   "metadata": {},
   "outputs": [
    {
     "name": "stdout",
     "output_type": "stream",
     "text": [
      "Thumbnail URL: https://img.youtube.com/vi/MksUgxuA8L4/maxresdefault.jpg\n",
      "Thumbnail image saved as MksUgxuA8L4_thumbnail.jpg\n"
     ]
    }
   ],
   "source": [
    "import requests\n",
    "from bs4 import BeautifulSoup\n",
    "\n",
    "# YouTube video URL\n",
    "video_url = \"https://youtu.be/MksUgxuA8L4?si=zXrYTf3og1mK5F2Y\"\n",
    "\n",
    "# Extract the video ID from the URL\n",
    "video_id = video_url.split('/')[-1].split('?')[0]\n",
    "\n",
    "# Construct the thumbnail URL\n",
    "thumbnail_url = f\"https://img.youtube.com/vi/{video_id}/maxresdefault.jpg\"\n",
    "\n",
    "# Send a request to the thumbnail URL\n",
    "response = requests.get(thumbnail_url)\n",
    "\n",
    "# Check if the request was successful\n",
    "if response.status_code == 200:\n",
    "    # Save the thumbnail image to a file or display it\n",
    "    with open(f\"{video_id}_thumbnail.jpg\", \"wb\") as img_file:\n",
    "        img_file.write(response.content)\n",
    "    print(f\"Thumbnail URL: {thumbnail_url}\")\n",
    "    print(\"Thumbnail image saved as\", f\"{video_id}_thumbnail.jpg\")\n",
    "else:\n",
    "    print(\"Failed to retrieve the thumbnail image.\")\n"
   ]
  },
  {
   "cell_type": "code",
   "execution_count": 9,
   "id": "e35763ce-41ec-4a51-8a56-9402e2259354",
   "metadata": {},
   "outputs": [
    {
     "name": "stdout",
     "output_type": "stream",
     "text": [
      "Thumbnail URL: https://img.youtube.com/vi/3TL4-e3z7CA/maxresdefault.jpg\n",
      "Thumbnail image saved as 3TL4-e3z7CA_thumbnail.jpg\n"
     ]
    }
   ],
   "source": [
    "import requests\n",
    "from bs4 import BeautifulSoup\n",
    "\n",
    "# YouTube video URL\n",
    "video_url = \"https://youtu.be/3TL4-e3z7CA?si=IsYno38C3YYnUf7R\"\n",
    "\n",
    "# Extract the video ID from the URL\n",
    "video_id = video_url.split('/')[-1].split('?')[0]\n",
    "\n",
    "# Construct the thumbnail URL\n",
    "thumbnail_url = f\"https://img.youtube.com/vi/{video_id}/maxresdefault.jpg\"\n",
    "\n",
    "# Send a request to the thumbnail URL\n",
    "response = requests.get(thumbnail_url)\n",
    "\n",
    "# Check if the request was successful\n",
    "if response.status_code == 200:\n",
    "    # Save the thumbnail image to a file or display it\n",
    "    with open(f\"{video_id}_thumbnail.jpg\", \"wb\") as img_file:\n",
    "        img_file.write(response.content)\n",
    "    print(f\"Thumbnail URL: {thumbnail_url}\")\n",
    "    print(\"Thumbnail image saved as\", f\"{video_id}_thumbnail.jpg\")\n",
    "else:\n",
    "    print(\"Failed to retrieve the thumbnail image.\")\n"
   ]
  },
  {
   "cell_type": "code",
   "execution_count": 10,
   "id": "5730aef4-87da-4ba5-b388-ad2e1b579eda",
   "metadata": {},
   "outputs": [
    {
     "name": "stdout",
     "output_type": "stream",
     "text": [
      "Thumbnail URL: https://img.youtube.com/vi/mw9mLdN6ssA/maxresdefault.jpg\n",
      "Thumbnail image saved as mw9mLdN6ssA_thumbnail.jpg\n"
     ]
    }
   ],
   "source": [
    "import requests\n",
    "from bs4 import BeautifulSoup\n",
    "\n",
    "# YouTube video URL\n",
    "video_url = \"https://youtu.be/mw9mLdN6ssA?si=J6UIAdOidG526nBl\"\n",
    "\n",
    "# Extract the video ID from the URL\n",
    "video_id = video_url.split('/')[-1].split('?')[0]\n",
    "\n",
    "# Construct the thumbnail URL\n",
    "thumbnail_url = f\"https://img.youtube.com/vi/{video_id}/maxresdefault.jpg\"\n",
    "\n",
    "# Send a request to the thumbnail URL\n",
    "response = requests.get(thumbnail_url)\n",
    "\n",
    "# Check if the request was successful\n",
    "if response.status_code == 200:\n",
    "    # Save the thumbnail image to a file or display it\n",
    "    with open(f\"{video_id}_thumbnail.jpg\", \"wb\") as img_file:\n",
    "        img_file.write(response.content)\n",
    "    print(f\"Thumbnail URL: {thumbnail_url}\")\n",
    "    print(\"Thumbnail image saved as\", f\"{video_id}_thumbnail.jpg\")\n",
    "else:\n",
    "    print(\"Failed to retrieve the thumbnail image.\")\n"
   ]
  },
  {
   "cell_type": "code",
   "execution_count": null,
   "id": "633aaca4-9beb-43b5-a9a6-841d3ec2585f",
   "metadata": {},
   "outputs": [],
   "source": []
  },
  {
   "cell_type": "markdown",
   "id": "99dec63c-1fcc-4c6a-a354-4408bf4cd69d",
   "metadata": {},
   "source": [
    "## Q3. Write a python program to extract the title of the first five videos.\n"
   ]
  },
  {
   "cell_type": "code",
   "execution_count": 11,
   "id": "7d1961cf-f15d-4069-a0e3-49890d8c775a",
   "metadata": {},
   "outputs": [
    {
     "name": "stdout",
     "output_type": "stream",
     "text": [
      "Title for 'https://youtu.be/dYh6Chnq0lo?si=HV6G8eirIIoaVdy0': Teacher's Day Offers 🔥 | Fastrack Batches LAUNCHED @₹1200 For 9th & 10th | Valid till 12th September\n",
      "Title for 'https://youtu.be/v22z2ixxN1c?si=nYuVnsPIra11kDLg': Launching FREE Batch for Class 12th  @PW-ArtsWallah  | NEW Channel | Check Description\n",
      "Title for 'https://youtu.be/MksUgxuA8L4?si=CvN_0aO-u4e671m0': Launching FREE Batch for Class 9th @Class9th-NEEV  | NEW Channel | Check Description\n",
      "Title for 'https://youtu.be/3TL4-e3z7CA?si=biQAmbO9Ncg7ltHs': Launching FREE Batch for Class 10th @Class10th-UDAAN  | NEW Channel | Check Description.\n",
      "Title for 'https://youtu.be/mw9mLdN6ssA?si=e4aIugjKVkxmGhGy': Happy 77th Independence Day 🇮🇳 | Check the Offers Now 🔥 #SapneDekhneKiAzaadi\n"
     ]
    }
   ],
   "source": [
    "from pytube import YouTube\n",
    "\n",
    "# List of YouTube video URLs\n",
    "video_urls = [\n",
    "    \"https://youtu.be/dYh6Chnq0lo?si=HV6G8eirIIoaVdy0\",\n",
    "    \"https://youtu.be/v22z2ixxN1c?si=nYuVnsPIra11kDLg\",\n",
    "    \"https://youtu.be/MksUgxuA8L4?si=CvN_0aO-u4e671m0\",\n",
    "    \"https://youtu.be/3TL4-e3z7CA?si=biQAmbO9Ncg7ltHs\",\n",
    "    \"https://youtu.be/mw9mLdN6ssA?si=e4aIugjKVkxmGhGy\"\n",
    "]\n",
    "\n",
    "# Function to extract and print the title for each video URL\n",
    "def extract_and_print_titles(video_urls):\n",
    "    for url in video_urls:\n",
    "        try:\n",
    "            yt = YouTube(url)\n",
    "            title = yt.title\n",
    "            print(f\"Title for '{url}': {title}\")\n",
    "        except Exception as e:\n",
    "            print(f\"Error processing '{url}': {str(e)}\")\n",
    "\n",
    "# Call the function to extract and print titles\n",
    "extract_and_print_titles(video_urls)\n"
   ]
  },
  {
   "cell_type": "markdown",
   "id": "4f8c1692-8a6b-41a8-b2b7-4995fe479c77",
   "metadata": {},
   "source": [
    "## Q4. Write a python program to extract the number of views of the first five videos."
   ]
  },
  {
   "cell_type": "code",
   "execution_count": 12,
   "id": "43e7fb23-4dab-4bd6-8c85-599674643170",
   "metadata": {},
   "outputs": [
    {
     "name": "stdout",
     "output_type": "stream",
     "text": [
      "Video URL: https://youtu.be/dYh6Chnq0lo?si=HV6G8eirIIoaVdy0\n",
      "Number of Views: 16012\n",
      "\n",
      "Video URL: https://youtu.be/v22z2ixxN1c?si=nYuVnsPIra11kDLg\n",
      "Number of Views: 12146\n",
      "\n",
      "Video URL: https://youtu.be/MksUgxuA8L4?si=CvN_0aO-u4e671m0\n",
      "Number of Views: 94081\n",
      "\n",
      "Video URL: https://youtu.be/3TL4-e3z7CA?si=biQAmbO9Ncg7ltHs\n",
      "Number of Views: 137460\n",
      "\n",
      "Video URL: https://youtu.be/mw9mLdN6ssA?si=e4aIugjKVkxmGhGy\n",
      "Number of Views: 46786\n",
      "\n"
     ]
    }
   ],
   "source": [
    "from pytube import YouTube\n",
    "\n",
    "# List of YouTube video URLs\n",
    "video_urls = [\n",
    "    \"https://youtu.be/dYh6Chnq0lo?si=HV6G8eirIIoaVdy0\",\n",
    "    \"https://youtu.be/v22z2ixxN1c?si=nYuVnsPIra11kDLg\",\n",
    "    \"https://youtu.be/MksUgxuA8L4?si=CvN_0aO-u4e671m0\",\n",
    "    \"https://youtu.be/3TL4-e3z7CA?si=biQAmbO9Ncg7ltHs\",\n",
    "    \"https://youtu.be/mw9mLdN6ssA?si=e4aIugjKVkxmGhGy\"\n",
    "]\n",
    "\n",
    "# Iterate through the list of video URLs\n",
    "for url in video_urls:\n",
    "    try:\n",
    "        # Create a YouTube object for each video\n",
    "        yt = YouTube(url)\n",
    "        \n",
    "        # Get the number of views for the video\n",
    "        views = yt.views\n",
    "        \n",
    "        # Print the URL and the number of views\n",
    "        print(f\"Video URL: {url}\")\n",
    "        print(f\"Number of Views: {views}\\n\")\n",
    "    except Exception as e:\n",
    "        print(f\"Error processing {url}: {str(e)}\\n\")\n"
   ]
  },
  {
   "cell_type": "markdown",
   "id": "3cc49136-9dc8-4b5a-98c4-c94538d63cc5",
   "metadata": {},
   "source": [
    "## Q5. Write a python program to extract the time of posting of video for the first five videos."
   ]
  },
  {
   "cell_type": "code",
   "execution_count": 13,
   "id": "3eebabaf-874a-4b8b-8301-e8f900a85e1d",
   "metadata": {},
   "outputs": [
    {
     "name": "stdout",
     "output_type": "stream",
     "text": [
      "Video URL: https://youtu.be/dYh6Chnq0lo?si=HV6G8eirIIoaVdy0\n",
      "Posting Time: 2023-09-06 00:00:00\n",
      "Video URL: https://youtu.be/v22z2ixxN1c?si=nYuVnsPIra11kDLg\n",
      "Posting Time: 2023-09-03 00:00:00\n",
      "Video URL: https://youtu.be/MksUgxuA8L4?si=CvN_0aO-u4e671m0\n",
      "Posting Time: 2023-09-02 00:00:00\n",
      "Video URL: https://youtu.be/3TL4-e3z7CA?si=biQAmbO9Ncg7ltHs\n",
      "Posting Time: 2023-09-01 00:00:00\n",
      "Video URL: https://youtu.be/mw9mLdN6ssA?si=e4aIugjKVkxmGhGy\n",
      "Posting Time: 2023-08-15 00:00:00\n"
     ]
    }
   ],
   "source": [
    "from pytube import YouTube\n",
    "\n",
    "# List of YouTube video URLs\n",
    "video_urls = [\n",
    "    \"https://youtu.be/dYh6Chnq0lo?si=HV6G8eirIIoaVdy0\",\n",
    "    \"https://youtu.be/v22z2ixxN1c?si=nYuVnsPIra11kDLg\",\n",
    "    \"https://youtu.be/MksUgxuA8L4?si=CvN_0aO-u4e671m0\",\n",
    "    \"https://youtu.be/3TL4-e3z7CA?si=biQAmbO9Ncg7ltHs\",\n",
    "    \"https://youtu.be/mw9mLdN6ssA?si=e4aIugjKVkxmGhGy\"\n",
    "]\n",
    "\n",
    "# Iterate through the video URLs and extract posting time for each\n",
    "for video_url in video_urls:\n",
    "    try:\n",
    "        # Create a YouTube object\n",
    "        yt = YouTube(video_url)\n",
    "        \n",
    "        # Extract the video's posting time\n",
    "        posting_time = yt.publish_date\n",
    "\n",
    "        if posting_time:\n",
    "            print(f\"Video URL: {video_url}\")\n",
    "            print(f\"Posting Time: {posting_time}\")\n",
    "        else:\n",
    "            print(f\"Could not retrieve posting time for {video_url}\")\n",
    "    \n",
    "    except Exception as e:\n",
    "        print(f\"Error processing {video_url}: {str(e)}\")\n"
   ]
  },
  {
   "cell_type": "code",
   "execution_count": 14,
   "id": "5a1edb5c-8744-43c9-ab7f-ec38062246c9",
   "metadata": {},
   "outputs": [
    {
     "name": "stdout",
     "output_type": "stream",
     "text": [
      "Data saved to video_data.csv successfully.\n"
     ]
    }
   ],
   "source": [
    "import csv\n",
    "from pytube import YouTube\n",
    "\n",
    "# List of YouTube video URLs\n",
    "video_urls = [\n",
    "    \"https://youtu.be/dYh6Chnq0lo?si=HV6G8eirIIoaVdy0\",\n",
    "    \"https://youtu.be/v22z2ixxN1c?si=nYuVnsPIra11kDLg\",\n",
    "    \"https://youtu.be/MksUgxuA8L4?si=CvN_0aO-u4e671m0\",\n",
    "    \"https://youtu.be/3TL4-e3z7CA?si=biQAmbO9Ncg7ltHs\",\n",
    "    \"https://youtu.be/mw9mLdN6ssA?si=e4aIugjKVkxmGhGy\"\n",
    "]\n",
    "\n",
    "# Create a list to store the scraped data\n",
    "data_list = []\n",
    "\n",
    "# Iterate through the video URLs and extract data\n",
    "for video_url in video_urls:\n",
    "    try:\n",
    "        # Create a YouTube object\n",
    "        yt = YouTube(video_url)\n",
    "        \n",
    "        # Extract the video's posting time\n",
    "        posting_time = yt.publish_date\n",
    "\n",
    "        # Extract the video thumbnail URL\n",
    "        thumbnail_url = yt.thumbnail_url\n",
    "\n",
    "        # Append the data to the list\n",
    "        data_list.append([video_url, posting_time, thumbnail_url])\n",
    "    \n",
    "    except Exception as e:\n",
    "        print(f\"Error processing {video_url}: {str(e)}\")\n",
    "\n",
    "# Define the CSV file name\n",
    "csv_filename = \"video_data.csv\"\n",
    "\n",
    "# Write the data to a CSV file\n",
    "with open(csv_filename, mode='w', newline='') as csv_file:\n",
    "    writer = csv.writer(csv_file)\n",
    "    \n",
    "    # Write the header row\n",
    "    writer.writerow(['Video URL', 'Posting Time', 'Thumbnail URL'])\n",
    "    \n",
    "    # Write the data rows\n",
    "    writer.writerows(data_list)\n",
    "\n",
    "print(f\"Data saved to {csv_filename} successfully.\")\n"
   ]
  },
  {
   "cell_type": "code",
   "execution_count": null,
   "id": "33202316-843b-4ab8-978e-da21a6dfef6b",
   "metadata": {},
   "outputs": [],
   "source": []
  }
 ],
 "metadata": {
  "kernelspec": {
   "display_name": "Python 3 (ipykernel)",
   "language": "python",
   "name": "python3"
  },
  "language_info": {
   "codemirror_mode": {
    "name": "ipython",
    "version": 3
   },
   "file_extension": ".py",
   "mimetype": "text/x-python",
   "name": "python",
   "nbconvert_exporter": "python",
   "pygments_lexer": "ipython3",
   "version": "3.10.8"
  }
 },
 "nbformat": 4,
 "nbformat_minor": 5
}
